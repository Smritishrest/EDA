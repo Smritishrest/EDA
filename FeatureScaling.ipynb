{
 "cells": [
  {
   "cell_type": "code",
   "execution_count": 20,
   "metadata": {},
   "outputs": [],
   "source": [
    "import pandas as pd\n",
    "import seaborn as sns \n",
    "from sklearn.preprocessing import StandardScaler\n",
    "from sklearn.preprocessing import MinMaxScaler\n",
    "from sklearn.model_selection import train_test_split"
   ]
  },
  {
   "cell_type": "code",
   "execution_count": 21,
   "metadata": {},
   "outputs": [
    {
     "data": {
      "text/html": [
       "<div>\n",
       "<style scoped>\n",
       "    .dataframe tbody tr th:only-of-type {\n",
       "        vertical-align: middle;\n",
       "    }\n",
       "\n",
       "    .dataframe tbody tr th {\n",
       "        vertical-align: top;\n",
       "    }\n",
       "\n",
       "    .dataframe thead th {\n",
       "        text-align: right;\n",
       "    }\n",
       "</style>\n",
       "<table border=\"1\" class=\"dataframe\">\n",
       "  <thead>\n",
       "    <tr style=\"text-align: right;\">\n",
       "      <th></th>\n",
       "      <th>survived</th>\n",
       "      <th>pclass</th>\n",
       "      <th>sex</th>\n",
       "      <th>age</th>\n",
       "      <th>sibsp</th>\n",
       "      <th>parch</th>\n",
       "      <th>fare</th>\n",
       "      <th>embarked</th>\n",
       "      <th>class</th>\n",
       "      <th>who</th>\n",
       "      <th>adult_male</th>\n",
       "      <th>deck</th>\n",
       "      <th>embark_town</th>\n",
       "      <th>alive</th>\n",
       "      <th>alone</th>\n",
       "    </tr>\n",
       "  </thead>\n",
       "  <tbody>\n",
       "    <tr>\n",
       "      <th>0</th>\n",
       "      <td>0</td>\n",
       "      <td>3</td>\n",
       "      <td>male</td>\n",
       "      <td>22.0</td>\n",
       "      <td>1</td>\n",
       "      <td>0</td>\n",
       "      <td>7.2500</td>\n",
       "      <td>S</td>\n",
       "      <td>Third</td>\n",
       "      <td>man</td>\n",
       "      <td>True</td>\n",
       "      <td>NaN</td>\n",
       "      <td>Southampton</td>\n",
       "      <td>no</td>\n",
       "      <td>False</td>\n",
       "    </tr>\n",
       "    <tr>\n",
       "      <th>1</th>\n",
       "      <td>1</td>\n",
       "      <td>1</td>\n",
       "      <td>female</td>\n",
       "      <td>38.0</td>\n",
       "      <td>1</td>\n",
       "      <td>0</td>\n",
       "      <td>71.2833</td>\n",
       "      <td>C</td>\n",
       "      <td>First</td>\n",
       "      <td>woman</td>\n",
       "      <td>False</td>\n",
       "      <td>C</td>\n",
       "      <td>Cherbourg</td>\n",
       "      <td>yes</td>\n",
       "      <td>False</td>\n",
       "    </tr>\n",
       "    <tr>\n",
       "      <th>2</th>\n",
       "      <td>1</td>\n",
       "      <td>3</td>\n",
       "      <td>female</td>\n",
       "      <td>26.0</td>\n",
       "      <td>0</td>\n",
       "      <td>0</td>\n",
       "      <td>7.9250</td>\n",
       "      <td>S</td>\n",
       "      <td>Third</td>\n",
       "      <td>woman</td>\n",
       "      <td>False</td>\n",
       "      <td>NaN</td>\n",
       "      <td>Southampton</td>\n",
       "      <td>yes</td>\n",
       "      <td>True</td>\n",
       "    </tr>\n",
       "    <tr>\n",
       "      <th>3</th>\n",
       "      <td>1</td>\n",
       "      <td>1</td>\n",
       "      <td>female</td>\n",
       "      <td>35.0</td>\n",
       "      <td>1</td>\n",
       "      <td>0</td>\n",
       "      <td>53.1000</td>\n",
       "      <td>S</td>\n",
       "      <td>First</td>\n",
       "      <td>woman</td>\n",
       "      <td>False</td>\n",
       "      <td>C</td>\n",
       "      <td>Southampton</td>\n",
       "      <td>yes</td>\n",
       "      <td>False</td>\n",
       "    </tr>\n",
       "    <tr>\n",
       "      <th>4</th>\n",
       "      <td>0</td>\n",
       "      <td>3</td>\n",
       "      <td>male</td>\n",
       "      <td>35.0</td>\n",
       "      <td>0</td>\n",
       "      <td>0</td>\n",
       "      <td>8.0500</td>\n",
       "      <td>S</td>\n",
       "      <td>Third</td>\n",
       "      <td>man</td>\n",
       "      <td>True</td>\n",
       "      <td>NaN</td>\n",
       "      <td>Southampton</td>\n",
       "      <td>no</td>\n",
       "      <td>True</td>\n",
       "    </tr>\n",
       "  </tbody>\n",
       "</table>\n",
       "</div>"
      ],
      "text/plain": [
       "   survived  pclass     sex   age  sibsp  parch     fare embarked  class  \\\n",
       "0         0       3    male  22.0      1      0   7.2500        S  Third   \n",
       "1         1       1  female  38.0      1      0  71.2833        C  First   \n",
       "2         1       3  female  26.0      0      0   7.9250        S  Third   \n",
       "3         1       1  female  35.0      1      0  53.1000        S  First   \n",
       "4         0       3    male  35.0      0      0   8.0500        S  Third   \n",
       "\n",
       "     who  adult_male deck  embark_town alive  alone  \n",
       "0    man        True  NaN  Southampton    no  False  \n",
       "1  woman       False    C    Cherbourg   yes  False  \n",
       "2  woman       False  NaN  Southampton   yes   True  \n",
       "3  woman       False    C  Southampton   yes  False  \n",
       "4    man        True  NaN  Southampton    no   True  "
      ]
     },
     "execution_count": 21,
     "metadata": {},
     "output_type": "execute_result"
    }
   ],
   "source": [
    "df = sns.load_dataset('titanic')\n",
    "df.head()"
   ]
  },
  {
   "cell_type": "code",
   "execution_count": 22,
   "metadata": {},
   "outputs": [
    {
     "data": {
      "text/plain": [
       "Index(['survived', 'pclass', 'age', 'sibsp', 'parch', 'fare'], dtype='object')"
      ]
     },
     "execution_count": 22,
     "metadata": {},
     "output_type": "execute_result"
    }
   ],
   "source": [
    "num_var = df.select_dtypes(include = ['int64','float64']).keys()\n",
    "num_var"
   ]
  },
  {
   "cell_type": "code",
   "execution_count": 11,
   "metadata": {},
   "outputs": [
    {
     "data": {
      "text/html": [
       "<div>\n",
       "<style scoped>\n",
       "    .dataframe tbody tr th:only-of-type {\n",
       "        vertical-align: middle;\n",
       "    }\n",
       "\n",
       "    .dataframe tbody tr th {\n",
       "        vertical-align: top;\n",
       "    }\n",
       "\n",
       "    .dataframe thead th {\n",
       "        text-align: right;\n",
       "    }\n",
       "</style>\n",
       "<table border=\"1\" class=\"dataframe\">\n",
       "  <thead>\n",
       "    <tr style=\"text-align: right;\">\n",
       "      <th></th>\n",
       "      <th>survived</th>\n",
       "      <th>pclass</th>\n",
       "      <th>age</th>\n",
       "      <th>parch</th>\n",
       "    </tr>\n",
       "  </thead>\n",
       "  <tbody>\n",
       "    <tr>\n",
       "      <th>0</th>\n",
       "      <td>0</td>\n",
       "      <td>3</td>\n",
       "      <td>22.0</td>\n",
       "      <td>0</td>\n",
       "    </tr>\n",
       "    <tr>\n",
       "      <th>1</th>\n",
       "      <td>1</td>\n",
       "      <td>1</td>\n",
       "      <td>38.0</td>\n",
       "      <td>0</td>\n",
       "    </tr>\n",
       "    <tr>\n",
       "      <th>2</th>\n",
       "      <td>1</td>\n",
       "      <td>3</td>\n",
       "      <td>26.0</td>\n",
       "      <td>0</td>\n",
       "    </tr>\n",
       "    <tr>\n",
       "      <th>3</th>\n",
       "      <td>1</td>\n",
       "      <td>1</td>\n",
       "      <td>35.0</td>\n",
       "      <td>0</td>\n",
       "    </tr>\n",
       "    <tr>\n",
       "      <th>4</th>\n",
       "      <td>0</td>\n",
       "      <td>3</td>\n",
       "      <td>35.0</td>\n",
       "      <td>0</td>\n",
       "    </tr>\n",
       "  </tbody>\n",
       "</table>\n",
       "</div>"
      ],
      "text/plain": [
       "   survived  pclass   age  parch\n",
       "0         0       3  22.0      0\n",
       "1         1       1  38.0      0\n",
       "2         1       3  26.0      0\n",
       "3         1       1  35.0      0\n",
       "4         0       3  35.0      0"
      ]
     },
     "execution_count": 11,
     "metadata": {},
     "output_type": "execute_result"
    }
   ],
   "source": [
    "df2 = df[num_var].drop(columns=['sibsp','fare'])\n",
    "df2.head()"
   ]
  },
  {
   "cell_type": "code",
   "execution_count": 23,
   "metadata": {},
   "outputs": [],
   "source": [
    "df3 = df2.fillna(df2.mean())\n"
   ]
  },
  {
   "cell_type": "code",
   "execution_count": 24,
   "metadata": {},
   "outputs": [],
   "source": [
    "X = df3.drop('survived', axis = 1)\n",
    "y = df3['survived']"
   ]
  },
  {
   "cell_type": "markdown",
   "metadata": {},
   "source": []
  },
  {
   "cell_type": "code",
   "execution_count": 19,
   "metadata": {},
   "outputs": [
    {
     "name": "stdout",
     "output_type": "stream",
     "text": [
      "Shape of x (891, 3)\n",
      "Shape of y (891,)\n"
     ]
    }
   ],
   "source": [
    "print(\"Shape of x\", X.shape)\n",
    "print(\"Shape of y\", y.shape)\n"
   ]
  },
  {
   "cell_type": "code",
   "execution_count": 25,
   "metadata": {},
   "outputs": [
    {
     "name": "stdout",
     "output_type": "stream",
     "text": [
      "Shape of x_train (712, 3)\n",
      "Shape of x_test (179, 3)\n",
      "Shape of y_train (712,)\n",
      "Shape of y_test (179,)\n"
     ]
    }
   ],
   "source": [
    "X_train , X_test, y_train, y_test = train_test_split(X,  y,test_size=0.2, random_state = 51) \n",
    "print(\"Shape of x_train\", X_train.shape)\n",
    "print(\"Shape of x_test\", X_test.shape)\n",
    "\n",
    "print(\"Shape of y_train\", y_train.shape)\n",
    "print(\"Shape of y_test\", y_test.shape)\n",
    "\n",
    "      \n"
   ]
  },
  {
   "cell_type": "code",
   "execution_count": 26,
   "metadata": {},
   "outputs": [
    {
     "data": {
      "text/html": [
       "<style>#sk-container-id-1 {color: black;}#sk-container-id-1 pre{padding: 0;}#sk-container-id-1 div.sk-toggleable {background-color: white;}#sk-container-id-1 label.sk-toggleable__label {cursor: pointer;display: block;width: 100%;margin-bottom: 0;padding: 0.3em;box-sizing: border-box;text-align: center;}#sk-container-id-1 label.sk-toggleable__label-arrow:before {content: \"▸\";float: left;margin-right: 0.25em;color: #696969;}#sk-container-id-1 label.sk-toggleable__label-arrow:hover:before {color: black;}#sk-container-id-1 div.sk-estimator:hover label.sk-toggleable__label-arrow:before {color: black;}#sk-container-id-1 div.sk-toggleable__content {max-height: 0;max-width: 0;overflow: hidden;text-align: left;background-color: #f0f8ff;}#sk-container-id-1 div.sk-toggleable__content pre {margin: 0.2em;color: black;border-radius: 0.25em;background-color: #f0f8ff;}#sk-container-id-1 input.sk-toggleable__control:checked~div.sk-toggleable__content {max-height: 200px;max-width: 100%;overflow: auto;}#sk-container-id-1 input.sk-toggleable__control:checked~label.sk-toggleable__label-arrow:before {content: \"▾\";}#sk-container-id-1 div.sk-estimator input.sk-toggleable__control:checked~label.sk-toggleable__label {background-color: #d4ebff;}#sk-container-id-1 div.sk-label input.sk-toggleable__control:checked~label.sk-toggleable__label {background-color: #d4ebff;}#sk-container-id-1 input.sk-hidden--visually {border: 0;clip: rect(1px 1px 1px 1px);clip: rect(1px, 1px, 1px, 1px);height: 1px;margin: -1px;overflow: hidden;padding: 0;position: absolute;width: 1px;}#sk-container-id-1 div.sk-estimator {font-family: monospace;background-color: #f0f8ff;border: 1px dotted black;border-radius: 0.25em;box-sizing: border-box;margin-bottom: 0.5em;}#sk-container-id-1 div.sk-estimator:hover {background-color: #d4ebff;}#sk-container-id-1 div.sk-parallel-item::after {content: \"\";width: 100%;border-bottom: 1px solid gray;flex-grow: 1;}#sk-container-id-1 div.sk-label:hover label.sk-toggleable__label {background-color: #d4ebff;}#sk-container-id-1 div.sk-serial::before {content: \"\";position: absolute;border-left: 1px solid gray;box-sizing: border-box;top: 0;bottom: 0;left: 50%;z-index: 0;}#sk-container-id-1 div.sk-serial {display: flex;flex-direction: column;align-items: center;background-color: white;padding-right: 0.2em;padding-left: 0.2em;position: relative;}#sk-container-id-1 div.sk-item {position: relative;z-index: 1;}#sk-container-id-1 div.sk-parallel {display: flex;align-items: stretch;justify-content: center;background-color: white;position: relative;}#sk-container-id-1 div.sk-item::before, #sk-container-id-1 div.sk-parallel-item::before {content: \"\";position: absolute;border-left: 1px solid gray;box-sizing: border-box;top: 0;bottom: 0;left: 50%;z-index: -1;}#sk-container-id-1 div.sk-parallel-item {display: flex;flex-direction: column;z-index: 1;position: relative;background-color: white;}#sk-container-id-1 div.sk-parallel-item:first-child::after {align-self: flex-end;width: 50%;}#sk-container-id-1 div.sk-parallel-item:last-child::after {align-self: flex-start;width: 50%;}#sk-container-id-1 div.sk-parallel-item:only-child::after {width: 0;}#sk-container-id-1 div.sk-dashed-wrapped {border: 1px dashed gray;margin: 0 0.4em 0.5em 0.4em;box-sizing: border-box;padding-bottom: 0.4em;background-color: white;}#sk-container-id-1 div.sk-label label {font-family: monospace;font-weight: bold;display: inline-block;line-height: 1.2em;}#sk-container-id-1 div.sk-label-container {text-align: center;}#sk-container-id-1 div.sk-container {/* jupyter's `normalize.less` sets `[hidden] { display: none; }` but bootstrap.min.css set `[hidden] { display: none !important; }` so we also need the `!important` here to be able to override the default hidden behavior on the sphinx rendered scikit-learn.org. See: https://github.com/scikit-learn/scikit-learn/issues/21755 */display: inline-block !important;position: relative;}#sk-container-id-1 div.sk-text-repr-fallback {display: none;}</style><div id=\"sk-container-id-1\" class=\"sk-top-container\"><div class=\"sk-text-repr-fallback\"><pre>StandardScaler()</pre><b>In a Jupyter environment, please rerun this cell to show the HTML representation or trust the notebook. <br />On GitHub, the HTML representation is unable to render, please try loading this page with nbviewer.org.</b></div><div class=\"sk-container\" hidden><div class=\"sk-item\"><div class=\"sk-estimator sk-toggleable\"><input class=\"sk-toggleable__control sk-hidden--visually\" id=\"sk-estimator-id-1\" type=\"checkbox\" checked><label for=\"sk-estimator-id-1\" class=\"sk-toggleable__label sk-toggleable__label-arrow\">StandardScaler</label><div class=\"sk-toggleable__content\"><pre>StandardScaler()</pre></div></div></div></div></div>"
      ],
      "text/plain": [
       "StandardScaler()"
      ]
     },
     "execution_count": 26,
     "metadata": {},
     "output_type": "execute_result"
    }
   ],
   "source": [
    "sc = StandardScaler()\n",
    "sc.fit(X_train)"
   ]
  },
  {
   "cell_type": "code",
   "execution_count": 27,
   "metadata": {},
   "outputs": [
    {
     "data": {
      "text/plain": [
       "array([ 2.30617978, 29.55409121,  0.39185393])"
      ]
     },
     "execution_count": 27,
     "metadata": {},
     "output_type": "execute_result"
    }
   ],
   "source": [
    "sc.mean_"
   ]
  },
  {
   "cell_type": "code",
   "execution_count": 28,
   "metadata": {},
   "outputs": [
    {
     "data": {
      "text/plain": [
       "array([ 0.84405789, 12.99162985,  0.79647463])"
      ]
     },
     "execution_count": 28,
     "metadata": {},
     "output_type": "execute_result"
    }
   ],
   "source": [
    "sc.scale_"
   ]
  },
  {
   "cell_type": "code",
   "execution_count": 29,
   "metadata": {},
   "outputs": [
    {
     "data": {
      "text/html": [
       "<div>\n",
       "<style scoped>\n",
       "    .dataframe tbody tr th:only-of-type {\n",
       "        vertical-align: middle;\n",
       "    }\n",
       "\n",
       "    .dataframe tbody tr th {\n",
       "        vertical-align: top;\n",
       "    }\n",
       "\n",
       "    .dataframe thead th {\n",
       "        text-align: right;\n",
       "    }\n",
       "</style>\n",
       "<table border=\"1\" class=\"dataframe\">\n",
       "  <thead>\n",
       "    <tr style=\"text-align: right;\">\n",
       "      <th></th>\n",
       "      <th>pclass</th>\n",
       "      <th>age</th>\n",
       "      <th>parch</th>\n",
       "    </tr>\n",
       "  </thead>\n",
       "  <tbody>\n",
       "    <tr>\n",
       "      <th>count</th>\n",
       "      <td>712.000000</td>\n",
       "      <td>712.000000</td>\n",
       "      <td>712.000000</td>\n",
       "    </tr>\n",
       "    <tr>\n",
       "      <th>mean</th>\n",
       "      <td>2.306180</td>\n",
       "      <td>29.554091</td>\n",
       "      <td>0.391854</td>\n",
       "    </tr>\n",
       "    <tr>\n",
       "      <th>std</th>\n",
       "      <td>0.844651</td>\n",
       "      <td>13.000763</td>\n",
       "      <td>0.797035</td>\n",
       "    </tr>\n",
       "    <tr>\n",
       "      <th>min</th>\n",
       "      <td>1.000000</td>\n",
       "      <td>0.420000</td>\n",
       "      <td>0.000000</td>\n",
       "    </tr>\n",
       "    <tr>\n",
       "      <th>25%</th>\n",
       "      <td>1.750000</td>\n",
       "      <td>22.000000</td>\n",
       "      <td>0.000000</td>\n",
       "    </tr>\n",
       "    <tr>\n",
       "      <th>50%</th>\n",
       "      <td>3.000000</td>\n",
       "      <td>29.699118</td>\n",
       "      <td>0.000000</td>\n",
       "    </tr>\n",
       "    <tr>\n",
       "      <th>75%</th>\n",
       "      <td>3.000000</td>\n",
       "      <td>35.000000</td>\n",
       "      <td>0.000000</td>\n",
       "    </tr>\n",
       "    <tr>\n",
       "      <th>max</th>\n",
       "      <td>3.000000</td>\n",
       "      <td>71.000000</td>\n",
       "      <td>5.000000</td>\n",
       "    </tr>\n",
       "  </tbody>\n",
       "</table>\n",
       "</div>"
      ],
      "text/plain": [
       "           pclass         age       parch\n",
       "count  712.000000  712.000000  712.000000\n",
       "mean     2.306180   29.554091    0.391854\n",
       "std      0.844651   13.000763    0.797035\n",
       "min      1.000000    0.420000    0.000000\n",
       "25%      1.750000   22.000000    0.000000\n",
       "50%      3.000000   29.699118    0.000000\n",
       "75%      3.000000   35.000000    0.000000\n",
       "max      3.000000   71.000000    5.000000"
      ]
     },
     "execution_count": 29,
     "metadata": {},
     "output_type": "execute_result"
    }
   ],
   "source": [
    "X_train.describe()"
   ]
  },
  {
   "cell_type": "code",
   "execution_count": 32,
   "metadata": {},
   "outputs": [
    {
     "name": "stderr",
     "output_type": "stream",
     "text": [
      "C:\\Users\\Acer\\AppData\\Local\\Packages\\PythonSoftwareFoundation.Python.3.11_qbz5n2kfra8p0\\LocalCache\\local-packages\\Python311\\site-packages\\sklearn\\base.py:465: UserWarning: X does not have valid feature names, but StandardScaler was fitted with feature names\n",
      "  warnings.warn(\n",
      "C:\\Users\\Acer\\AppData\\Local\\Packages\\PythonSoftwareFoundation.Python.3.11_qbz5n2kfra8p0\\LocalCache\\local-packages\\Python311\\site-packages\\sklearn\\base.py:465: UserWarning: X does not have valid feature names, but StandardScaler was fitted with feature names\n",
      "  warnings.warn(\n"
     ]
    }
   ],
   "source": [
    "X_train_sc = sc.transform(X_train)\n",
    "X_test_sc = sc.transform(X_test)"
   ]
  },
  {
   "cell_type": "code",
   "execution_count": 33,
   "metadata": {},
   "outputs": [
    {
     "data": {
      "text/plain": [
       "array([[-4.56565841, -2.21296653, -1.1096893 ],\n",
       "       [-1.75837972, -2.26036483, -1.1096893 ],\n",
       "       [-1.75837972, -2.2722144 , -1.1096893 ],\n",
       "       [-4.56565841, -2.27399706, -1.1096893 ],\n",
       "       [-3.16201907, -2.24851525,  0.46667322],\n",
       "       [-1.75837972, -2.26036483, -1.1096893 ],\n",
       "       [-4.56565841, -2.17149303, -1.1096893 ],\n",
       "       [-1.75837972, -2.35516142, -1.1096893 ],\n",
       "       [-3.16201907, -2.05892208, -1.1096893 ],\n",
       "       [-4.56565841, -2.3610862 ,  0.46667322],\n",
       "       [-3.16201907, -2.26628961, -1.1096893 ],\n",
       "       [-3.16201907, -2.28406397, -1.1096893 ],\n",
       "       [-4.56565841, -2.1833426 , -1.1096893 ],\n",
       "       [-1.75837972, -2.31368791, -1.1096893 ],\n",
       "       [-1.75837972, -2.20704175,  6.77212331],\n",
       "       [-3.16201907, -2.30183833, -1.1096893 ],\n",
       "       [-3.16201907, -2.23666568,  2.04303574],\n",
       "       [-1.75837972, -2.27399706, -1.1096893 ],\n",
       "       [-1.75837972, -2.27399706, -1.1096893 ],\n",
       "       [-3.16201907, -2.33738705, -1.1096893 ],\n",
       "       [-1.75837972, -2.27399706, -1.1096893 ],\n",
       "       [-3.16201907, -2.34331184, -1.1096893 ],\n",
       "       [-1.75837972, -2.32553748, -1.1096893 ],\n",
       "       [-4.56565841, -2.26628961, -1.1096893 ],\n",
       "       [-1.75837972, -2.34923663, -1.1096893 ],\n",
       "       [-4.56565841, -2.30776312, -1.1096893 ],\n",
       "       [-1.75837972, -2.20704175, -1.1096893 ],\n",
       "       [-4.56565841, -2.27399706, -1.1096893 ],\n",
       "       [-1.75837972, -2.24259047,  0.46667322],\n",
       "       [-4.56565841, -2.35516142,  0.46667322],\n",
       "       [-1.75837972, -2.27399706, -1.1096893 ],\n",
       "       [-4.56565841, -2.10632037,  2.04303574],\n",
       "       [-4.56565841, -2.17149303, -1.1096893 ],\n",
       "       [-1.75837972, -2.26628961, -1.1096893 ],\n",
       "       [-3.16201907, -2.24851525, -1.1096893 ],\n",
       "       [-3.16201907, -2.27399706, -1.1096893 ],\n",
       "       [-3.16201907, -2.26036483, -1.1096893 ],\n",
       "       [-1.75837972, -2.2722144 , -1.1096893 ],\n",
       "       [-3.16201907, -2.31961269,  0.46667322],\n",
       "       [-1.75837972, -2.01152378, -1.1096893 ],\n",
       "       [-3.16201907, -2.28406397, -1.1096893 ],\n",
       "       [-1.75837972, -2.32553748, -1.1096893 ],\n",
       "       [-1.75837972, -2.21000414, -1.1096893 ],\n",
       "       [-3.16201907, -2.42033407,  2.04303574],\n",
       "       [-1.75837972, -2.42625886,  2.04303574],\n",
       "       [-3.16201907, -2.23666568, -1.1096893 ],\n",
       "       [-3.16201907, -2.27813919, -1.1096893 ],\n",
       "       [-1.75837972, -2.35516142, -1.1096893 ],\n",
       "       [-4.56565841, -2.28406397, -1.1096893 ],\n",
       "       [-1.75837972, -2.30183833, -1.1096893 ],\n",
       "       [-1.75837972, -2.27399706, -1.1096893 ],\n",
       "       [-4.56565841, -2.23666568, -1.1096893 ],\n",
       "       [-1.75837972, -2.14779388, -1.1096893 ],\n",
       "       [-1.75837972, -2.27399706, -1.1096893 ],\n",
       "       [-3.16201907, -2.30776312, -1.1096893 ],\n",
       "       [-4.56565841, -2.15371867, -1.1096893 ],\n",
       "       [-4.56565841, -2.29591355, -1.1096893 ],\n",
       "       [-1.75837972, -2.20111696, -1.1096893 ],\n",
       "       [-1.75837972, -2.36701099, -1.1096893 ],\n",
       "       [-1.75837972, -2.32553748, -1.1096893 ],\n",
       "       [-1.75837972, -2.1833426 , -1.1096893 ],\n",
       "       [-1.75837972, -2.1833426 , -1.1096893 ],\n",
       "       [-4.56565841, -2.20111696, -1.1096893 ],\n",
       "       [-1.75837972, -2.27813919, -1.1096893 ],\n",
       "       [-1.75837972, -2.28406397, -1.1096893 ],\n",
       "       [-1.75837972, -2.35516142, -1.1096893 ],\n",
       "       [-3.16201907, -2.31368791, -1.1096893 ],\n",
       "       [-1.75837972, -2.36701099,  0.46667322],\n",
       "       [-3.16201907, -2.20111696, -1.1096893 ],\n",
       "       [-3.16201907, -2.28998876, -1.1096893 ],\n",
       "       [-4.56565841, -2.26036483, -1.1096893 ],\n",
       "       [-1.75837972, -2.34331184, -1.1096893 ],\n",
       "       [-3.16201907, -2.43218364,  0.46667322],\n",
       "       [-1.75837972, -2.27399706, -1.1096893 ],\n",
       "       [-4.56565841, -2.11816995, -1.1096893 ],\n",
       "       [-3.16201907, -2.43810843,  0.46667322],\n",
       "       [-3.16201907, -2.28406397, -1.1096893 ],\n",
       "       [-4.56565841, -2.22481611, -1.1096893 ],\n",
       "       [-1.75837972, -2.27399706, -1.1096893 ],\n",
       "       [-1.75837972, -2.27399706, -1.1096893 ],\n",
       "       [-3.16201907, -2.34331184, -1.1096893 ],\n",
       "       [-1.75837972, -2.28406397, -1.1096893 ],\n",
       "       [-3.16201907, -2.2722144 , -1.1096893 ],\n",
       "       [-4.56565841, -2.2722144 , -1.1096893 ],\n",
       "       [-3.16201907, -2.17741781, -1.1096893 ],\n",
       "       [-1.75837972, -2.39663492,  0.46667322],\n",
       "       [-4.56565841, -2.21296653, -1.1096893 ],\n",
       "       [-1.75837972, -2.27399706, -1.1096893 ],\n",
       "       [-1.75837972, -2.43810843,  2.04303574],\n",
       "       [-1.75837972, -2.27399706, -1.1096893 ],\n",
       "       [-1.75837972, -2.19519217, -1.1096893 ],\n",
       "       [-3.16201907, -2.13001952, -1.1096893 ],\n",
       "       [-1.75837972, -2.27399706, -1.1096893 ],\n",
       "       [-3.16201907, -2.30183833,  0.46667322],\n",
       "       [-4.56565841, -2.26628961, -1.1096893 ],\n",
       "       [-1.75837972, -2.27399706, -1.1096893 ],\n",
       "       [-3.16201907, -2.27813919, -1.1096893 ],\n",
       "       [-1.75837972, -2.35516142,  0.46667322],\n",
       "       [-4.56565841, -2.27813919, -1.1096893 ],\n",
       "       [-1.75837972, -2.20111696,  0.46667322],\n",
       "       [-3.16201907, -2.08262122, -1.1096893 ],\n",
       "       [-1.75837972, -2.27399706,  0.46667322],\n",
       "       [-1.75837972, -2.25444004, -1.1096893 ],\n",
       "       [-3.16201907, -2.28998876, -1.1096893 ],\n",
       "       [-1.75837972, -2.27399706, -1.1096893 ],\n",
       "       [-1.75837972, -2.19519217,  8.34848583],\n",
       "       [-1.75837972, -2.26628961, -1.1096893 ],\n",
       "       [-1.75837972, -2.30183833, -1.1096893 ],\n",
       "       [-1.75837972, -2.23666568,  0.46667322],\n",
       "       [-1.75837972, -2.26036483, -1.1096893 ],\n",
       "       [-1.75837972, -2.27399706, -1.1096893 ],\n",
       "       [-3.16201907, -2.30183833,  2.04303574],\n",
       "       [-4.56565841, -1.97597506, -1.1096893 ],\n",
       "       [-1.75837972, -2.24259047, -1.1096893 ],\n",
       "       [-3.16201907, -2.33738705, -1.1096893 ],\n",
       "       [-1.75837972, -2.26036483, -1.1096893 ],\n",
       "       [-3.16201907, -2.34923663, -1.1096893 ],\n",
       "       [-4.56565841, -2.07077165,  5.19576079],\n",
       "       [-1.75837972, -2.33738705, -1.1096893 ],\n",
       "       [-1.75837972, -2.3640486 , -1.1096893 ],\n",
       "       [-1.75837972, -2.20111696, -1.1096893 ],\n",
       "       [-4.56565841, -2.08262122, -1.1096893 ],\n",
       "       [-1.75837972, -2.27399706, -1.1096893 ],\n",
       "       [-1.75837972, -2.33738705, -1.1096893 ],\n",
       "       [-3.16201907, -2.29591355,  0.46667322],\n",
       "       [-1.75837972, -2.35516142, -1.1096893 ],\n",
       "       [-1.75837972, -2.28406397, -1.1096893 ],\n",
       "       [-4.56565841, -2.18926739,  0.46667322],\n",
       "       [-1.75837972, -2.27399706, -1.1096893 ],\n",
       "       [-1.75837972, -2.27399706, -1.1096893 ],\n",
       "       [-3.16201907, -2.2722144 , -1.1096893 ],\n",
       "       [-1.75837972, -2.29591355, -1.1096893 ],\n",
       "       [-1.75837972, -2.23666568, -1.1096893 ],\n",
       "       [-4.56565841, -2.0944708 , -1.1096893 ],\n",
       "       [-1.75837972, -2.34331184, -1.1096893 ],\n",
       "       [-1.75837972, -2.27399706, -1.1096893 ],\n",
       "       [-3.16201907, -2.27399706, -1.1096893 ],\n",
       "       [-1.75837972, -2.35516142,  0.46667322],\n",
       "       [-3.16201907, -2.44504043,  2.04303574],\n",
       "       [-1.75837972, -2.27399706, -1.1096893 ],\n",
       "       [-4.56565841, -2.31961269, -1.1096893 ],\n",
       "       [-3.16201907, -2.27813919, -1.1096893 ],\n",
       "       [-4.56565841, -2.18038021, -1.1096893 ],\n",
       "       [-3.16201907, -2.24851525, -1.1096893 ],\n",
       "       [-1.75837972, -2.34923663,  0.46667322],\n",
       "       [-1.75837972, -2.25444004,  0.46667322],\n",
       "       [-1.75837972, -2.28998876, -1.1096893 ],\n",
       "       [-3.16201907, -2.24259047, -1.1096893 ],\n",
       "       [-1.75837972, -2.27399706, -1.1096893 ],\n",
       "       [-1.75837972, -2.27399706, -1.1096893 ],\n",
       "       [-1.75837972, -2.27399706, -1.1096893 ],\n",
       "       [-4.56565841, -2.13001952,  0.46667322],\n",
       "       [-1.75837972, -2.39663492,  2.04303574],\n",
       "       [-4.56565841, -2.32553748,  2.04303574],\n",
       "       [-1.75837972, -2.28406397,  0.46667322],\n",
       "       [-1.75837972, -2.27399706, -1.1096893 ],\n",
       "       [-1.75837972, -2.35516142, -1.1096893 ],\n",
       "       [-3.16201907, -2.32553748, -1.1096893 ],\n",
       "       [-1.75837972, -2.27399706,  0.46667322],\n",
       "       [-1.75837972, -2.39663492,  2.04303574],\n",
       "       [-1.75837972, -2.23074089, -1.1096893 ],\n",
       "       [-4.56565841, -2.43810843,  2.04303574],\n",
       "       [-1.75837972, -2.33738705, -1.1096893 ],\n",
       "       [-3.16201907, -2.18926739, -1.1096893 ],\n",
       "       [-4.56565841, -2.33738705, -1.1096893 ],\n",
       "       [-1.75837972, -2.28406397, -1.1096893 ],\n",
       "       [-1.75837972, -2.27813919, -1.1096893 ],\n",
       "       [-3.16201907, -2.24851525, -1.1096893 ],\n",
       "       [-3.16201907, -2.23666568, -1.1096893 ],\n",
       "       [-1.75837972, -2.32553748, -1.1096893 ],\n",
       "       [-1.75837972, -2.27399706, -1.1096893 ],\n",
       "       [-4.56565841, -2.27399706, -1.1096893 ],\n",
       "       [-4.56565841, -2.12409473, -1.1096893 ],\n",
       "       [-1.75837972, -2.26628961, -1.1096893 ],\n",
       "       [-1.75837972, -2.27399706,  2.04303574],\n",
       "       [-1.75837972, -2.29591355, -1.1096893 ],\n",
       "       [-3.16201907, -2.30776312, -1.1096893 ],\n",
       "       [-4.56565841, -2.26628961, -1.1096893 ],\n",
       "       [-4.56565841, -2.23074089, -1.1096893 ]])"
      ]
     },
     "execution_count": 33,
     "metadata": {},
     "output_type": "execute_result"
    }
   ],
   "source": [
    "X_test_sc"
   ]
  },
  {
   "cell_type": "code",
   "execution_count": 34,
   "metadata": {},
   "outputs": [],
   "source": [
    "X_train_sc = pd.DataFrame(X_train_sc, columns=['pclass','age','parch'])\n",
    "X_test_sc = pd.DataFrame(X_test_sc, columns=['pclass','age','parch'])"
   ]
  },
  {
   "cell_type": "code",
   "execution_count": 35,
   "metadata": {},
   "outputs": [
    {
     "data": {
      "text/html": [
       "<div>\n",
       "<style scoped>\n",
       "    .dataframe tbody tr th:only-of-type {\n",
       "        vertical-align: middle;\n",
       "    }\n",
       "\n",
       "    .dataframe tbody tr th {\n",
       "        vertical-align: top;\n",
       "    }\n",
       "\n",
       "    .dataframe thead th {\n",
       "        text-align: right;\n",
       "    }\n",
       "</style>\n",
       "<table border=\"1\" class=\"dataframe\">\n",
       "  <thead>\n",
       "    <tr style=\"text-align: right;\">\n",
       "      <th></th>\n",
       "      <th>pclass</th>\n",
       "      <th>age</th>\n",
       "      <th>parch</th>\n",
       "    </tr>\n",
       "  </thead>\n",
       "  <tbody>\n",
       "    <tr>\n",
       "      <th>0</th>\n",
       "      <td>-1.75838</td>\n",
       "      <td>-2.307763</td>\n",
       "      <td>-1.109689</td>\n",
       "    </tr>\n",
       "    <tr>\n",
       "      <th>1</th>\n",
       "      <td>-1.75838</td>\n",
       "      <td>-2.121132</td>\n",
       "      <td>-1.109689</td>\n",
       "    </tr>\n",
       "    <tr>\n",
       "      <th>2</th>\n",
       "      <td>-1.75838</td>\n",
       "      <td>-2.384785</td>\n",
       "      <td>-1.109689</td>\n",
       "    </tr>\n",
       "    <tr>\n",
       "      <th>3</th>\n",
       "      <td>-1.75838</td>\n",
       "      <td>-2.343312</td>\n",
       "      <td>-1.109689</td>\n",
       "    </tr>\n",
       "    <tr>\n",
       "      <th>4</th>\n",
       "      <td>-1.75838</td>\n",
       "      <td>-2.273997</td>\n",
       "      <td>2.043036</td>\n",
       "    </tr>\n",
       "  </tbody>\n",
       "</table>\n",
       "</div>"
      ],
      "text/plain": [
       "    pclass       age     parch\n",
       "0 -1.75838 -2.307763 -1.109689\n",
       "1 -1.75838 -2.121132 -1.109689\n",
       "2 -1.75838 -2.384785 -1.109689\n",
       "3 -1.75838 -2.343312 -1.109689\n",
       "4 -1.75838 -2.273997  2.043036"
      ]
     },
     "execution_count": 35,
     "metadata": {},
     "output_type": "execute_result"
    }
   ],
   "source": [
    "X_train_sc.head()"
   ]
  },
  {
   "cell_type": "code",
   "execution_count": 36,
   "metadata": {},
   "outputs": [
    {
     "data": {
      "text/html": [
       "<div>\n",
       "<style scoped>\n",
       "    .dataframe tbody tr th:only-of-type {\n",
       "        vertical-align: middle;\n",
       "    }\n",
       "\n",
       "    .dataframe tbody tr th {\n",
       "        vertical-align: top;\n",
       "    }\n",
       "\n",
       "    .dataframe thead th {\n",
       "        text-align: right;\n",
       "    }\n",
       "</style>\n",
       "<table border=\"1\" class=\"dataframe\">\n",
       "  <thead>\n",
       "    <tr style=\"text-align: right;\">\n",
       "      <th></th>\n",
       "      <th>pclass</th>\n",
       "      <th>age</th>\n",
       "      <th>parch</th>\n",
       "    </tr>\n",
       "  </thead>\n",
       "  <tbody>\n",
       "    <tr>\n",
       "      <th>count</th>\n",
       "      <td>712.00</td>\n",
       "      <td>712.00</td>\n",
       "      <td>712.00</td>\n",
       "    </tr>\n",
       "    <tr>\n",
       "      <th>mean</th>\n",
       "      <td>-2.73</td>\n",
       "      <td>-2.27</td>\n",
       "      <td>-0.49</td>\n",
       "    </tr>\n",
       "    <tr>\n",
       "      <th>std</th>\n",
       "      <td>1.19</td>\n",
       "      <td>0.08</td>\n",
       "      <td>1.26</td>\n",
       "    </tr>\n",
       "    <tr>\n",
       "      <th>min</th>\n",
       "      <td>-4.57</td>\n",
       "      <td>-2.45</td>\n",
       "      <td>-1.11</td>\n",
       "    </tr>\n",
       "    <tr>\n",
       "      <th>25%</th>\n",
       "      <td>-3.51</td>\n",
       "      <td>-2.32</td>\n",
       "      <td>-1.11</td>\n",
       "    </tr>\n",
       "    <tr>\n",
       "      <th>50%</th>\n",
       "      <td>-1.76</td>\n",
       "      <td>-2.27</td>\n",
       "      <td>-1.11</td>\n",
       "    </tr>\n",
       "    <tr>\n",
       "      <th>75%</th>\n",
       "      <td>-1.76</td>\n",
       "      <td>-2.24</td>\n",
       "      <td>-1.11</td>\n",
       "    </tr>\n",
       "    <tr>\n",
       "      <th>max</th>\n",
       "      <td>-1.76</td>\n",
       "      <td>-2.03</td>\n",
       "      <td>6.77</td>\n",
       "    </tr>\n",
       "  </tbody>\n",
       "</table>\n",
       "</div>"
      ],
      "text/plain": [
       "       pclass     age   parch\n",
       "count  712.00  712.00  712.00\n",
       "mean    -2.73   -2.27   -0.49\n",
       "std      1.19    0.08    1.26\n",
       "min     -4.57   -2.45   -1.11\n",
       "25%     -3.51   -2.32   -1.11\n",
       "50%     -1.76   -2.27   -1.11\n",
       "75%     -1.76   -2.24   -1.11\n",
       "max     -1.76   -2.03    6.77"
      ]
     },
     "execution_count": 36,
     "metadata": {},
     "output_type": "execute_result"
    }
   ],
   "source": [
    "X_train_sc.describe().round(2)"
   ]
  },
  {
   "cell_type": "code",
   "execution_count": null,
   "metadata": {},
   "outputs": [],
   "source": []
  }
 ],
 "metadata": {
  "kernelspec": {
   "display_name": "Python 3",
   "language": "python",
   "name": "python3"
  },
  "language_info": {
   "codemirror_mode": {
    "name": "ipython",
    "version": 3
   },
   "file_extension": ".py",
   "mimetype": "text/x-python",
   "name": "python",
   "nbconvert_exporter": "python",
   "pygments_lexer": "ipython3",
   "version": "3.11.7"
  }
 },
 "nbformat": 4,
 "nbformat_minor": 2
}
